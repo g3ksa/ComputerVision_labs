{
 "cells": [
  {
   "cell_type": "markdown",
   "metadata": {},
   "source": [
    "# Пятый пункт"
   ]
  },
  {
   "cell_type": "code",
   "execution_count": 1,
   "metadata": {},
   "outputs": [],
   "source": [
    "from PIL import Image, ImageOps, ImageFilter, ImageEnhance\n",
    "\n",
    "# Открытие изображения\n",
    "img = Image.open('../1.png')\n",
    "\n",
    "# Увеличение/уменьшение интенсивности яркости и отдельных цветовых каналов\n",
    "enhancer = ImageEnhance.Brightness(img)\n",
    "img_bright = enhancer.enhance(1.5)  # увеличение яркости на 50%\n",
    "img_dark = enhancer.enhance(0.5)  # уменьшение яркости на 50%\n",
    "\n",
    "r, g, b = img.split()\n",
    "r = r.point(lambda i: i * 1.5)  # увеличение интенсивности красного канала\n",
    "g = g.point(lambda i: i * 0.5)  # уменьшение интенсивности зеленого канала\n",
    "b = b.point(lambda i: i * 0.5)  # уменьшение интенсивности синего канала\n",
    "img_adjusted = Image.merge(\"RGB\", (r, g, b))\n",
    "\n",
    "# Повышение/снижение контрастности изображения\n",
    "contrast = ImageEnhance.Contrast(img)\n",
    "img_high_contrast = contrast.enhance(2.0)  # повышение контрастности в 2 раза\n",
    "img_low_contrast = contrast.enhance(0.5)  # снижение контрастности в 2 раза\n",
    "\n",
    "# Получение негатива яркости или цветовых каналов\n",
    "img_negative = ImageOps.invert(img)\n",
    "\n",
    "# Обмен цветовых каналов\n",
    "r, g, b = img.split()\n",
    "new_img = Image.merge(\"RGB\", (g, r, b))  # обмен красного и зеленого каналов\n",
    "\n",
    "# Выполнение симметричного отображения изображения по горизонтали или вертикали\n",
    "flipped_img_horizontal = img.transpose(Image.FLIP_LEFT_RIGHT)\n",
    "flipped_img_vertical = img.transpose(Image.FLIP_TOP_BOTTOM)\n",
    "\n",
    "# Удаление шума методом размытия изображения\n",
    "blurred_img_4 = img.filter(ImageFilter.BLUR)  # размытие по модели 4-связности\n",
    "blurred_img_8 = img.filter(ImageFilter.BoxBlur(2))  # размытие по модели 8-связности\n",
    "\n",
    "# Собственная идея\n",
    "# Ваш код для собственной идеи\n",
    "\n",
    "# Сохранение изображений\n",
    "img_bright.save('../photos/fivepoint/bright.jpg')\n",
    "img_dark.save('../photos/fivepoint/dark.jpg')\n",
    "img_adjusted.save('../photos/fivepoint/adjusted.jpg')\n",
    "img_high_contrast.save('../photos/fivepoint/high_contrast.jpg')\n",
    "img_low_contrast.save('../photos/fivepoint/low_contrast.jpg')\n",
    "img_negative.save('../photos/fivepoint/negative.jpg')\n",
    "new_img.save('../photos/fivepoint/new_channels.jpg')\n",
    "flipped_img_horizontal.save('../photos/fivepoint/flipped_horizontal.jpg')\n",
    "flipped_img_vertical.save('../photos/fivepoint/flipped_vertical.jpg')\n",
    "blurred_img_4.save('../photos/fivepoint/blurred_4.jpg')\n",
    "blurred_img_8.save('../photos/fivepoint/blurred_8.jpg')"
   ]
  },
  {
   "cell_type": "markdown",
   "metadata": {},
   "source": [
    "# Шестой пункт"
   ]
  },
  {
   "cell_type": "code",
   "execution_count": 2,
   "metadata": {},
   "outputs": [
    {
     "name": "stderr",
     "output_type": "stream",
     "text": [
      "[ WARN:0@4.657] global loadsave.cpp:248 findDecoder imread_('../1.jpg'): can't open/read file: check file path/integrity\n"
     ]
    },
    {
     "ename": "TypeError",
     "evalue": "'NoneType' object is not subscriptable",
     "output_type": "error",
     "traceback": [
      "\u001b[0;31m---------------------------------------------------------------------------\u001b[0m",
      "\u001b[0;31mTypeError\u001b[0m                                 Traceback (most recent call last)",
      "Cell \u001b[0;32mIn[2], line 10\u001b[0m\n\u001b[1;32m      8\u001b[0m \u001b[38;5;66;03m# Получение профиля яркости для выбранной строки\u001b[39;00m\n\u001b[1;32m      9\u001b[0m row_number \u001b[38;5;241m=\u001b[39m \u001b[38;5;241m100\u001b[39m  \u001b[38;5;66;03m# Номер строки, для которой нужно получить профиль\u001b[39;00m\n\u001b[0;32m---> 10\u001b[0m row_profile \u001b[38;5;241m=\u001b[39m \u001b[43mimg\u001b[49m\u001b[43m[\u001b[49m\u001b[43mrow_number\u001b[49m\u001b[43m,\u001b[49m\u001b[43m \u001b[49m\u001b[43m:\u001b[49m\u001b[43m]\u001b[49m\n\u001b[1;32m     12\u001b[0m \u001b[38;5;66;03m# Визуализация профиля яркости\u001b[39;00m\n\u001b[1;32m     13\u001b[0m plt\u001b[38;5;241m.\u001b[39mplot(row_profile)\n",
      "\u001b[0;31mTypeError\u001b[0m: 'NoneType' object is not subscriptable"
     ]
    }
   ],
   "source": [
    "import cv2\n",
    "import numpy as np\n",
    "import matplotlib.pyplot as plt\n",
    "\n",
    "# Загрузка изображения\n",
    "img = cv2.imread('../1.png', 0)  # Загрузка в оттенках серого\n",
    "\n",
    "# Получение профиля яркости для выбранной строки\n",
    "row_number = 100  # Номер строки, для которой нужно получить профиль\n",
    "row_profile = img[row_number, :]\n",
    "\n",
    "# Визуализация профиля яркости\n",
    "plt.plot(row_profile)\n",
    "plt.show()"
   ]
  }
 ],
 "metadata": {
  "kernelspec": {
   "display_name": "myenv",
   "language": "python",
   "name": "python3"
  },
  "language_info": {
   "codemirror_mode": {
    "name": "ipython",
    "version": 3
   },
   "file_extension": ".py",
   "mimetype": "text/x-python",
   "name": "python",
   "nbconvert_exporter": "python",
   "pygments_lexer": "ipython3",
   "version": "3.12.1"
  }
 },
 "nbformat": 4,
 "nbformat_minor": 2
}
